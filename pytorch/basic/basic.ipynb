{
 "cells": [
  {
   "cell_type": "code",
   "execution_count": 6,
   "outputs": [
    {
     "name": "stdout",
     "output_type": "stream",
     "text": [
      "tensor([[2.6752e-01, 9.5131e-02, 7.8223e-01],\n",
      "        [8.1581e-01, 0.0000e+00, 3.6893e+19],\n",
      "        [1.7635e-26, 2.5244e-29, 4.7852e-01],\n",
      "        [2.7295e-02, 3.2061e-01, 9.7171e-01],\n",
      "        [9.6954e-01, 9.4421e-01, 3.0234e-01]])\n",
      "tensor([[0.5775, 0.3317, 0.5955],\n",
      "        [0.5984, 0.3966, 0.0977],\n",
      "        [0.9233, 0.0286, 0.0194],\n",
      "        [0.6715, 0.2765, 0.9282],\n",
      "        [0.1152, 0.3821, 0.3197]])\n"
     ]
    }
   ],
   "source": [
    "# tensor initialization\n",
    "import torch\n",
    "\n",
    "# empty tensor init\n",
    "# generate a empty tensor, like ndarray of NumPy\n",
    "# 5 * 3 indicate 5 rows 3 columns\n",
    "x = torch.Tensor(5, 3)\n",
    "print(x)\n",
    "\n",
    "# random tensor init\n",
    "x = torch.rand(5, 3)\n",
    "print(x)"
   ],
   "metadata": {
    "collapsed": false,
    "pycharm": {
     "name": "#%%\n"
    }
   }
  },
  {
   "cell_type": "code",
   "execution_count": 14,
   "outputs": [
    {
     "name": "stdout",
     "output_type": "stream",
     "text": [
      "tensor([[ 2.,  1., -1.],\n",
      "        [ 1., -2.,  3.],\n",
      "        [-2.,  1.,  2.]])\n",
      "tensor([[ 1., -1.,  2.],\n",
      "        [-2.,  1.,  3.],\n",
      "        [ 2., -2.,  1.]])\n",
      "tensor([[ 9.,  0.,  1.],\n",
      "        [ 1.,  1., 36.],\n",
      "        [ 0.,  1.,  9.]])\n",
      "tensor([[ 9.,  0.,  1.],\n",
      "        [ 1.,  1., 36.],\n",
      "        [ 0.,  1.,  9.]])\n",
      "tensor([[True, True, True],\n",
      "        [True, True, True],\n",
      "        [True, True, True]])\n"
     ]
    }
   ],
   "source": [
    "# tensor adding\n",
    "import torch\n",
    "\n",
    "a = torch.Tensor([[2, 1, -1], [1, -2, 3], [-2, 1, 2]])\n",
    "b = torch.Tensor([[1, -1, 2], [-2, 1, 3], [2, -2, 1]])\n",
    "print(a)\n",
    "print(b)\n",
    "\n",
    "result = a + b\n",
    "result = torch.square(result)\n",
    "print(result)\n",
    "\n",
    "a2 = torch.square(a)\n",
    "b2 = torch.square(b)\n",
    "ab = a * b\n",
    "ba = b * a\n",
    "result2 = a2 + ab + ba + b2\n",
    "print(result2)\n",
    "\n",
    "print(result == result2)"
   ],
   "metadata": {
    "collapsed": false,
    "pycharm": {
     "name": "#%%\n"
    }
   }
  },
  {
   "cell_type": "code",
   "execution_count": 52,
   "outputs": [
    {
     "name": "stdout",
     "output_type": "stream",
     "text": [
      "tensor([[ 8.3200,  8.6800],\n",
      "        [10.3900, 10.8400]])\n",
      "tensor([[1.0000, 0.0000, 0.0000],\n",
      "        [0.0000, 1.0000, 0.0000],\n",
      "        [0.0000, 0.0000, 1.0000]])\n"
     ]
    }
   ],
   "source": [
    "# tensor product\n",
    "import torch\n",
    "\n",
    "a = torch.Tensor([[1.1, 1.2, 1.3], [1.4, 1.5, 1.6]])\n",
    "b = torch.Tensor([[2.1, 2.2], [2.3, 2.4], [2.5, 2.6]])\n",
    "\n",
    "print(torch.matmul(a, b))\n",
    "\n",
    "x = torch.Tensor([[6, 12, -6], [-12, 12, -4], [0, -12, 8]])\n",
    "# x = torch.Tensor([[4, 7], [2, 6]])\n",
    "xinv = torch.linalg.inv(x)\n",
    "print(torch.matmul(x, xinv))"
   ],
   "metadata": {
    "collapsed": false,
    "pycharm": {
     "name": "#%%\n"
    }
   }
  },
  {
   "cell_type": "code",
   "execution_count": 5,
   "outputs": [
    {
     "name": "stdout",
     "output_type": "stream",
     "text": [
      "tensor([[[-1.0552, -0.3082, -1.5270],\n",
      "         [-0.1937,  0.3067, -2.2731],\n",
      "         [-0.9198, -1.8613, -0.0089]],\n",
      "\n",
      "        [[-0.1057, -2.6443,  1.1553],\n",
      "         [ 1.2394, -0.7063,  2.0697],\n",
      "         [-0.5609, -0.5982, -0.6893]],\n",
      "\n",
      "        [[ 0.4327,  0.6643, -0.0927],\n",
      "         [-0.1069, -0.6832, -1.1978],\n",
      "         [-0.1144,  0.0680,  0.9189]],\n",
      "\n",
      "        [[-0.5502, -0.3344, -1.4720],\n",
      "         [ 0.4613,  1.1215,  0.1458],\n",
      "         [ 1.4775, -0.1735, -0.8749]]])\n",
      "tensor([[[[-1.0552, -0.3082, -1.5270],\n",
      "          [-0.1937,  0.3067, -2.2731],\n",
      "          [-0.9198, -1.8613, -0.0089]],\n",
      "\n",
      "         [[-0.1057, -2.6443,  1.1553],\n",
      "          [ 1.2394, -0.7063,  2.0697],\n",
      "          [-0.5609, -0.5982, -0.6893]],\n",
      "\n",
      "         [[ 0.4327,  0.6643, -0.0927],\n",
      "          [-0.1069, -0.6832, -1.1978],\n",
      "          [-0.1144,  0.0680,  0.9189]],\n",
      "\n",
      "         [[-0.5502, -0.3344, -1.4720],\n",
      "          [ 0.4613,  1.1215,  0.1458],\n",
      "          [ 1.4775, -0.1735, -0.8749]]]])\n",
      "tensor([1, 1, 1, 1, 0, 0, 0, 0, 0])\n"
     ]
    }
   ],
   "source": [
    "import torch\n",
    "\n",
    "a = torch.randn(4, 3, 3)\n",
    "print(a)\n",
    "print(a.unsqueeze(0))\n",
    "\n",
    "labels = torch.cat([torch.ones(4), torch.zeros(5)], dim=0).long()\n",
    "print(labels)"
   ],
   "metadata": {
    "collapsed": false,
    "pycharm": {
     "name": "#%%\n"
    }
   }
  },
  {
   "cell_type": "code",
   "execution_count": 25,
   "outputs": [
    {
     "name": "stdout",
     "output_type": "stream",
     "text": [
      "tensor([[ 1.1312, -0.2894, -1.7286, -0.3512,  0.3030],\n",
      "        [ 2.2057,  0.4267, -1.2856,  1.8601, -1.2192],\n",
      "        [ 1.4765,  1.4323,  0.1407,  0.3044, -0.2838]], requires_grad=True)\n",
      "tensor([[1., 1., 0., 0., 0.],\n",
      "        [1., 1., 0., 0., 0.],\n",
      "        [1., 1., 0., 0., 0.]])\n"
     ]
    }
   ],
   "source": [
    "import torch\n",
    "import torch.nn.functional as F\n",
    "\n",
    "# Example of target with class indices\n",
    "input = torch.randn(3, 5, requires_grad=True)\n",
    "print(input)\n",
    "# target = torch.empty(3, dtype=torch.long).random_(5)\n",
    "target = torch.cat([torch.ones(2), torch.zeros(3)], dim=0).float()\n",
    "target = target.repeat(3, 1)\n",
    "print(target)\n",
    "output = F.cross_entropy(input, target)\n",
    "output.backward()"
   ],
   "metadata": {
    "collapsed": false,
    "pycharm": {
     "name": "#%%\n"
    }
   }
  },
  {
   "cell_type": "code",
   "execution_count": 45,
   "outputs": [
    {
     "name": "stdout",
     "output_type": "stream",
     "text": [
      "torch.Size([4, 3])\n",
      "torch.Size([4, 1, 3])\n",
      "torch.Size([4, 3, 3])\n",
      "torch.Size([12, 3])\n"
     ]
    }
   ],
   "source": [
    "import torch\n",
    "\n",
    "a = torch.randn(4, 3, requires_grad=True)\n",
    "b = a.unsqueeze(1)\n",
    "print(a.shape)\n",
    "print(b.shape)\n",
    "c = b.repeat(1, 3, 1)\n",
    "print(c.shape)\n",
    "d = c.reshape(c.size(0) * c.size(1), c.size(2))\n",
    "print(d.shape)"
   ],
   "metadata": {
    "collapsed": false,
    "pycharm": {
     "name": "#%%\n"
    }
   }
  },
  {
   "cell_type": "code",
   "execution_count": 44,
   "outputs": [
    {
     "name": "stdout",
     "output_type": "stream",
     "text": [
      "tensor([ 0.5798, -0.1765, -0.4573,  2.0085])\n",
      "tensor([[ 0.5798],\n",
      "        [-0.1765],\n",
      "        [-0.4573],\n",
      "        [ 2.0085]])\n",
      "tensor([[ 0.5798,  0.5798,  0.5798],\n",
      "        [-0.1765, -0.1765, -0.1765],\n",
      "        [-0.4573, -0.4573, -0.4573],\n",
      "        [ 2.0085,  2.0085,  2.0085]])\n",
      "tensor([ 0.5798,  0.5798,  0.5798, -0.1765, -0.1765, -0.1765, -0.4573, -0.4573,\n",
      "        -0.4573,  2.0085,  2.0085,  2.0085])\n"
     ]
    }
   ],
   "source": [
    "import torch\n",
    "\n",
    "a = torch.randn(4)\n",
    "print(a)\n",
    "b = a.unsqueeze(-1)\n",
    "print(b)\n",
    "c = b.repeat(1, 3)\n",
    "print(c)\n",
    "d = c.reshape(12)\n",
    "print(d)"
   ],
   "metadata": {
    "collapsed": false,
    "pycharm": {
     "name": "#%%\n"
    }
   }
  },
  {
   "cell_type": "code",
   "execution_count": 48,
   "outputs": [
    {
     "name": "stdout",
     "output_type": "stream",
     "text": [
      "torch.return_types.topk(\n",
      "values=tensor([[-1.3251],\n",
      "        [-0.6610],\n",
      "        [ 0.3701],\n",
      "        [ 1.3044],\n",
      "        [ 0.2862]], grad_fn=<TopkBackward0>),\n",
      "indices=tensor([[0],\n",
      "        [0],\n",
      "        [0],\n",
      "        [0],\n",
      "        [0]]))\n"
     ]
    }
   ],
   "source": [
    "import torch\n",
    "\n",
    "a = torch.randn(5, 1, requires_grad=True)\n",
    "print(torch.topk(a, 1, dim=1))"
   ],
   "metadata": {
    "collapsed": false,
    "pycharm": {
     "name": "#%%\n"
    }
   }
  },
  {
   "cell_type": "code",
   "execution_count": null,
   "outputs": [],
   "source": [
    "\n",
    "a = 88.06\n",
    "ax = [89.72, 92.58]"
   ],
   "metadata": {
    "collapsed": false,
    "pycharm": {
     "name": "#%%\n"
    }
   }
  }
 ],
 "metadata": {
  "kernelspec": {
   "display_name": "Python 3",
   "language": "python",
   "name": "python3"
  },
  "language_info": {
   "codemirror_mode": {
    "name": "ipython",
    "version": 2
   },
   "file_extension": ".py",
   "mimetype": "text/x-python",
   "name": "python",
   "nbconvert_exporter": "python",
   "pygments_lexer": "ipython2",
   "version": "2.7.6"
  }
 },
 "nbformat": 4,
 "nbformat_minor": 0
}