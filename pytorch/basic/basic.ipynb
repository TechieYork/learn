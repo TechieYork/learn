{
 "cells": [
  {
   "cell_type": "code",
   "execution_count": 6,
   "outputs": [
    {
     "name": "stdout",
     "output_type": "stream",
     "text": [
      "tensor([[2.6752e-01, 9.5131e-02, 7.8223e-01],\n",
      "        [8.1581e-01, 0.0000e+00, 3.6893e+19],\n",
      "        [1.7635e-26, 2.5244e-29, 4.7852e-01],\n",
      "        [2.7295e-02, 3.2061e-01, 9.7171e-01],\n",
      "        [9.6954e-01, 9.4421e-01, 3.0234e-01]])\n",
      "tensor([[0.5775, 0.3317, 0.5955],\n",
      "        [0.5984, 0.3966, 0.0977],\n",
      "        [0.9233, 0.0286, 0.0194],\n",
      "        [0.6715, 0.2765, 0.9282],\n",
      "        [0.1152, 0.3821, 0.3197]])\n"
     ]
    }
   ],
   "source": [
    "# tensor initialization\n",
    "import torch\n",
    "\n",
    "# empty tensor init\n",
    "# generate a empty tensor, like ndarray of NumPy\n",
    "# 5 * 3 indicate 5 rows 3 columns\n",
    "x = torch.Tensor(5, 3)\n",
    "print(x)\n",
    "\n",
    "# random tensor init\n",
    "x = torch.rand(5, 3)\n",
    "print(x)"
   ],
   "metadata": {
    "collapsed": false,
    "pycharm": {
     "name": "#%%\n"
    }
   }
  },
  {
   "cell_type": "code",
   "execution_count": 14,
   "outputs": [
    {
     "name": "stdout",
     "output_type": "stream",
     "text": [
      "tensor([[ 2.,  1., -1.],\n",
      "        [ 1., -2.,  3.],\n",
      "        [-2.,  1.,  2.]])\n",
      "tensor([[ 1., -1.,  2.],\n",
      "        [-2.,  1.,  3.],\n",
      "        [ 2., -2.,  1.]])\n",
      "tensor([[ 9.,  0.,  1.],\n",
      "        [ 1.,  1., 36.],\n",
      "        [ 0.,  1.,  9.]])\n",
      "tensor([[ 9.,  0.,  1.],\n",
      "        [ 1.,  1., 36.],\n",
      "        [ 0.,  1.,  9.]])\n",
      "tensor([[True, True, True],\n",
      "        [True, True, True],\n",
      "        [True, True, True]])\n"
     ]
    }
   ],
   "source": [
    "# tensor adding\n",
    "import torch\n",
    "\n",
    "a = torch.Tensor([[2, 1, -1], [1, -2, 3], [-2, 1, 2]])\n",
    "b = torch.Tensor([[1, -1, 2], [-2, 1, 3], [2, -2, 1]])\n",
    "print(a)\n",
    "print(b)\n",
    "\n",
    "result = a + b\n",
    "result = torch.square(result)\n",
    "print(result)\n",
    "\n",
    "a2 = torch.square(a)\n",
    "b2 = torch.square(b)\n",
    "ab = a * b\n",
    "ba = b * a\n",
    "result2 = a2 + ab + ba + b2\n",
    "print(result2)\n",
    "\n",
    "print(result == result2)"
   ],
   "metadata": {
    "collapsed": false,
    "pycharm": {
     "name": "#%%\n"
    }
   }
  },
  {
   "cell_type": "code",
   "execution_count": 52,
   "outputs": [
    {
     "name": "stdout",
     "output_type": "stream",
     "text": [
      "tensor([[ 8.3200,  8.6800],\n",
      "        [10.3900, 10.8400]])\n",
      "tensor([[1.0000, 0.0000, 0.0000],\n",
      "        [0.0000, 1.0000, 0.0000],\n",
      "        [0.0000, 0.0000, 1.0000]])\n"
     ]
    }
   ],
   "source": [
    "# tensor product\n",
    "import torch\n",
    "\n",
    "a = torch.Tensor([[1.1, 1.2, 1.3], [1.4, 1.5, 1.6]])\n",
    "b = torch.Tensor([[2.1, 2.2], [2.3, 2.4], [2.5, 2.6]])\n",
    "\n",
    "print(torch.matmul(a, b))\n",
    "\n",
    "x = torch.Tensor([[6, 12, -6], [-12, 12, -4], [0, -12, 8]])\n",
    "# x = torch.Tensor([[4, 7], [2, 6]])\n",
    "xinv = torch.linalg.inv(x)\n",
    "print(torch.matmul(x, xinv))"
   ],
   "metadata": {
    "collapsed": false,
    "pycharm": {
     "name": "#%%\n"
    }
   }
  }
 ],
 "metadata": {
  "kernelspec": {
   "display_name": "Python 3",
   "language": "python",
   "name": "python3"
  },
  "language_info": {
   "codemirror_mode": {
    "name": "ipython",
    "version": 2
   },
   "file_extension": ".py",
   "mimetype": "text/x-python",
   "name": "python",
   "nbconvert_exporter": "python",
   "pygments_lexer": "ipython2",
   "version": "2.7.6"
  }
 },
 "nbformat": 4,
 "nbformat_minor": 0
}