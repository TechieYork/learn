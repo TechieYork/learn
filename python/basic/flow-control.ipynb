{
 "cells": [
  {
   "cell_type": "markdown",
   "source": [
    "# Flow control"
   ],
   "metadata": {
    "collapsed": false,
    "pycharm": {
     "name": "#%% md\n"
    }
   }
  },
  {
   "cell_type": "code",
   "execution_count": 11,
   "outputs": [
    {
     "name": "stdout",
     "output_type": "stream",
     "text": [
      "a == 1\n"
     ]
    }
   ],
   "source": [
    "# if statement\n",
    "a = 1\n",
    "if a == 0:\n",
    "    print(\"a == 0\")\n",
    "elif a == 1:\n",
    "    print(\"a == 1\")\n",
    "else:\n",
    "    print(\"a > 1\")"
   ],
   "metadata": {
    "collapsed": false,
    "pycharm": {
     "name": "#%%\n"
    }
   }
  },
  {
   "cell_type": "code",
   "execution_count": 18,
   "outputs": [
    {
     "name": "stdout",
     "output_type": "stream",
     "text": [
      "Joy\n",
      "Techie\n",
      "Jenny\n",
      "finished\n"
     ]
    }
   ],
   "source": [
    "# for loop\n",
    "names = [\"Joy\", \"Techie\", \"Jenny\"]\n",
    "for name in names:\n",
    "    print(name)\n",
    "else:\n",
    "     # if for loop finished normally, else statement will be executed,\n",
    "    print(\"finished\")"
   ],
   "metadata": {
    "collapsed": false,
    "pycharm": {
     "name": "#%%\n"
    }
   }
  },
  {
   "cell_type": "code",
   "execution_count": 19,
   "outputs": [
    {
     "name": "stdout",
     "output_type": "stream",
     "text": [
      "Joy\n",
      "Techie\n",
      "Jenny\n",
      "finished\n"
     ]
    }
   ],
   "source": [
    "# while loop\n",
    "index = 0\n",
    "while index < len(names):\n",
    "    print(names[index])\n",
    "    index = index + 1\n",
    "else:\n",
    "    # if while condition is false, else statement will be executed\n",
    "    print(\"finished\")"
   ],
   "metadata": {
    "collapsed": false,
    "pycharm": {
     "name": "#%%\n"
    }
   }
  },
  {
   "cell_type": "code",
   "execution_count": 17,
   "outputs": [
    {
     "name": "stdout",
     "output_type": "stream",
     "text": [
      "0\n",
      "1\n",
      "2\n",
      "3\n"
     ]
    }
   ],
   "source": [
    "# break\n",
    "numbers = range(5)\n",
    "for number in numbers:\n",
    "    if number > 3:\n",
    "        break\n",
    "    print(number)"
   ],
   "metadata": {
    "collapsed": false,
    "pycharm": {
     "name": "#%%\n"
    }
   }
  },
  {
   "cell_type": "code",
   "execution_count": 15,
   "outputs": [
    {
     "name": "stdout",
     "output_type": "stream",
     "text": [
      "3\n",
      "4\n"
     ]
    }
   ],
   "source": [
    "# continue\n",
    "for number in numbers:\n",
    "    if number < 3:\n",
    "        continue\n",
    "    print(number)"
   ],
   "metadata": {
    "collapsed": false,
    "pycharm": {
     "name": "#%%\n"
    }
   }
  },
  {
   "cell_type": "code",
   "execution_count": 1,
   "outputs": [
    {
     "name": "stdout",
     "output_type": "stream",
     "text": [
      "number = 1\n"
     ]
    }
   ],
   "source": [
    "# match, from python 3.10\n",
    "number = 1\n",
    "match number:\n",
    "    case 1:\n",
    "        print(\"number = 1\")\n",
    "    # wildcard, could considered as default\n",
    "    case _:\n",
    "        print(\"default\")"
   ],
   "metadata": {
    "collapsed": false,
    "pycharm": {
     "name": "#%%\n"
    }
   }
  }
 ],
 "metadata": {
  "kernelspec": {
   "display_name": "Python 3",
   "language": "python",
   "name": "python3"
  },
  "language_info": {
   "codemirror_mode": {
    "name": "ipython",
    "version": 2
   },
   "file_extension": ".py",
   "mimetype": "text/x-python",
   "name": "python",
   "nbconvert_exporter": "python",
   "pygments_lexer": "ipython2",
   "version": "2.7.6"
  }
 },
 "nbformat": 4,
 "nbformat_minor": 0
}