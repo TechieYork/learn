{
 "cells": [
  {
   "cell_type": "markdown",
   "source": [
    "# Built-in data structure"
   ],
   "metadata": {
    "collapsed": false,
    "pycharm": {
     "name": "#%% md\n"
    }
   }
  },
  {
   "cell_type": "code",
   "execution_count": 8,
   "outputs": [
    {
     "name": "stdout",
     "output_type": "stream",
     "text": [
      "[1, 2, 3, 4, 5]\n",
      "index: 0 value: 1\n",
      "index: 1 value: 2\n",
      "index: 2 value: 3\n",
      "index: 3 value: 4\n",
      "index: 4 value: 5\n",
      "[1, 2, 3, 4, 5, 6, 7, 8, 9]\n",
      "1\n",
      "[1, 2, 3]\n",
      "[100, 2, 3, 4, 5]\n",
      "[100, 2, 3, 4, 5, 99]\n"
     ]
    }
   ],
   "source": [
    "# list\n",
    "# unlike strings, lists is mutable array\n",
    "intList = [1, 2, 3, 4, 5]\n",
    "print(intList)\n",
    "\n",
    "# iteration\n",
    "for n, v in enumerate(intList):\n",
    "    print(\"index:\", n, \"value:\", v)\n",
    "\n",
    "# merging\n",
    "print(intList + [6, 7, 8, 9])\n",
    "\n",
    "# indexing\n",
    "print(intList[0])\n",
    "\n",
    "# slice operation\n",
    "print(intList[0:3])\n",
    "\n",
    "# modification\n",
    "intList[0] = 100\n",
    "print(intList)\n",
    "\n",
    "# appending\n",
    "intList.append(99)\n",
    "print(intList)\n",
    "\n",
    "# more operation on list, could refer to list's functions"
   ],
   "metadata": {
    "collapsed": false,
    "pycharm": {
     "name": "#%%\n"
    }
   }
  },
  {
   "cell_type": "code",
   "execution_count": 7,
   "outputs": [
    {
     "name": "stdout",
     "output_type": "stream",
     "text": [
      "(1, 2, 3, 4, 5)\n"
     ]
    }
   ],
   "source": [
    "# tuple\n",
    "# unlike list, tuple is immutable array\n",
    "intTuple = (1, 2, 3, 4, 5)\n",
    "print(intTuple)"
   ],
   "metadata": {
    "collapsed": false,
    "pycharm": {
     "name": "#%%\n"
    }
   }
  },
  {
   "cell_type": "code",
   "execution_count": 7,
   "outputs": [
    {
     "name": "stdout",
     "output_type": "stream",
     "text": [
      "{'a': 1, 'b': 2, 'c': 3}\n",
      "1\n",
      "False\n",
      "{'b': 2, 'c': 3}\n",
      "key: b value: 2\n",
      "key: c value: 3\n"
     ]
    }
   ],
   "source": [
    "# dict\n",
    "intDict = {\"a\": 1, \"b\":2, \"c\": 3}\n",
    "print(intDict)\n",
    "\n",
    "# iteration\n",
    "for k, v in intDict.items():\n",
    "    print(\"key:\", k, \"value:\", v)\n",
    "\n",
    "# indexing\n",
    "print(intDict[\"a\"])\n",
    "\n",
    "# check existence\n",
    "print(\"d\" in intDict)\n",
    "\n",
    "# deleting\n",
    "del(intDict[\"a\"])\n",
    "print(intDict)"
   ],
   "metadata": {
    "collapsed": false,
    "pycharm": {
     "name": "#%%\n"
    }
   }
  },
  {
   "cell_type": "code",
   "execution_count": 6,
   "outputs": [
    {
     "name": "stdout",
     "output_type": "stream",
     "text": [
      "{1, 2, 3}\n",
      "True\n",
      "False\n",
      "{2, 3}\n"
     ]
    }
   ],
   "source": [
    "# set\n",
    "intSet = {1, 2, 3}\n",
    "print(intSet)\n",
    "\n",
    "# check existence\n",
    "print(1 in intSet)\n",
    "print(5 in intSet)\n",
    "\n",
    "# deleting\n",
    "intSet.remove(1)\n",
    "print(intSet)"
   ],
   "metadata": {
    "collapsed": false,
    "pycharm": {
     "name": "#%%\n"
    }
   }
  },
  {
   "cell_type": "code",
   "execution_count": null,
   "outputs": [],
   "source": [],
   "metadata": {
    "collapsed": false,
    "pycharm": {
     "name": "#%%\n"
    }
   }
  }
 ],
 "metadata": {
  "kernelspec": {
   "display_name": "Python 3",
   "language": "python",
   "name": "python3"
  },
  "language_info": {
   "codemirror_mode": {
    "name": "ipython",
    "version": 2
   },
   "file_extension": ".py",
   "mimetype": "text/x-python",
   "name": "python",
   "nbconvert_exporter": "python",
   "pygments_lexer": "ipython2",
   "version": "2.7.6"
  }
 },
 "nbformat": 4,
 "nbformat_minor": 0
}