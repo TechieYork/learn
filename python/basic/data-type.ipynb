{
 "cells": [
  {
   "cell_type": "markdown",
   "source": [
    "# Build-in data type"
   ],
   "metadata": {
    "collapsed": false,
    "pycharm": {
     "name": "#%% md\n"
    }
   }
  },
  {
   "cell_type": "code",
   "execution_count": 15,
   "outputs": [
    {
     "name": "stdout",
     "output_type": "stream",
     "text": [
      "Hello\n",
      "My name is world!!!!!!!!!!!!\n",
      "P\n",
      "n\n",
      "Py\n",
      "thon\n",
      "on\n"
     ]
    }
   ],
   "source": [
    "# string\n",
    "# note: python string likes golang string is immutable\n",
    "print('Hello')\n",
    "print(\"My name is \" + \"\"\"world\"\"\" + 3 * '''!!!!''')\n",
    "\n",
    "# indexing\n",
    "word = \"Python\"\n",
    "print(word[0])\n",
    "print(word[-1])\n",
    "\n",
    "# slice operation\n",
    "# +---+---+---+---+---+---+\n",
    "# | P | y | t | h | o | n |\n",
    "# +---+---+---+---+---+---+\n",
    "# 0   1   2   3   4   5   6\n",
    "#-6  -5  -4  -3  -2  -1\n",
    "print(word[:2])\n",
    "print(word[2:])\n",
    "print(word[4:6]) # from index 4(included) to 6(excluded)"
   ],
   "metadata": {
    "collapsed": false,
    "pycharm": {
     "name": "#%%\n"
    }
   }
  },
  {
   "cell_type": "code",
   "execution_count": 16,
   "outputs": [
    {
     "name": "stdout",
     "output_type": "stream",
     "text": [
      "1\n",
      "3.6\n"
     ]
    }
   ],
   "source": [
    "# number\n",
    "# int\n",
    "print(1)\n",
    "# float\n",
    "print(3.6)"
   ],
   "metadata": {
    "collapsed": false,
    "pycharm": {
     "name": "#%%\n"
    }
   }
  },
  {
   "cell_type": "code",
   "execution_count": 17,
   "outputs": [
    {
     "name": "stdout",
     "output_type": "stream",
     "text": [
      "+: 2\n",
      "-: 1\n",
      "*: 15\n",
      "**: 8\n",
      "/: 3.0\n",
      "//: 2\n",
      "%: 1\n"
     ]
    }
   ],
   "source": [
    "# operators\n",
    "# +\n",
    "print(\"+:\", 1 + 1)\n",
    "# -\n",
    "print(\"-:\", 2 - 1)\n",
    "# *\n",
    "print(\"*:\", 3 * 5)\n",
    "# squared\n",
    "print(\"**:\", 2 ** 3)\n",
    "# /\n",
    "print(\"/:\", 9 / 3)\n",
    "# //\n",
    "print(\"//:\", 9 // 4)\n",
    "# %\n",
    "print(\"%:\", 9 % 4)"
   ],
   "metadata": {
    "collapsed": false,
    "pycharm": {
     "name": "#%%\n"
    }
   }
  }
 ],
 "metadata": {
  "kernelspec": {
   "display_name": "Python 3",
   "language": "python",
   "name": "python3"
  },
  "language_info": {
   "codemirror_mode": {
    "name": "ipython",
    "version": 2
   },
   "file_extension": ".py",
   "mimetype": "text/x-python",
   "name": "python",
   "nbconvert_exporter": "python",
   "pygments_lexer": "ipython2",
   "version": "2.7.6"
  }
 },
 "nbformat": 4,
 "nbformat_minor": 0
}