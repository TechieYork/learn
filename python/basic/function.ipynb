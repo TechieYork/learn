{
 "cells": [
  {
   "cell_type": "code",
   "execution_count": 1,
   "metadata": {
    "collapsed": true,
    "pycharm": {
     "name": "#%%\n"
    }
   },
   "outputs": [
    {
     "name": "stdout",
     "output_type": "stream",
     "text": [
      "Hello\n"
     ]
    }
   ],
   "source": [
    "# easy function\n",
    "def say_hello():\n",
    "    \"\"\"comment for documentation\"\"\"\n",
    "    print(\"Hello\")"
   ]
  },
  {
   "cell_type": "code",
   "execution_count": 13,
   "outputs": [
    {
     "name": "stdout",
     "output_type": "stream",
     "text": [
      "Hello  Rose ! Good  evening\n",
      "Hello  Mary ! Good  morning\n",
      "[1]\n",
      "[1, 2]\n",
      "[1, 2, 3]\n",
      "[1]\n",
      "[2]\n",
      "[3]\n"
     ]
    }
   ],
   "source": [
    "# function with default value\n",
    "def say_hello(name, greeting='morning'):\n",
    "    print(\"Hello \", name, \"! Good \", greeting)\n",
    "\n",
    "say_hello(\"Rose\", \"evening\")\n",
    "say_hello(\"Mary\")\n",
    "\n",
    "# caution, if default value is list, dict or class instance, default value will only be evaluated once, check the example below\n",
    "def f(a, l=[]):\n",
    "    l.append(a)\n",
    "    return l\n",
    "\n",
    "print(f(1))\n",
    "print(f(2))\n",
    "print(f(3))\n",
    "\n",
    "# if you need to let l to be evaluated each time, see the example below\n",
    "def fn(a, l=None):\n",
    "    if l is None:\n",
    "        l = []\n",
    "    l.append(a)\n",
    "    return l\n",
    "\n",
    "print(fn(1))\n",
    "print(fn(2))\n",
    "print(fn(3))"
   ],
   "metadata": {
    "collapsed": false,
    "pycharm": {
     "name": "#%%\n"
    }
   }
  },
  {
   "cell_type": "code",
   "execution_count": 19,
   "outputs": [
    {
     "name": "stdout",
     "output_type": "stream",
     "text": [
      "I live in 100 Tower A Nanshan Shenzhen China\n",
      "I live in 100 Tower A Futian Shenzhen China\n",
      "I live in 100 Tower A Futian Shenzhen China mainland\n"
     ]
    }
   ],
   "source": [
    "# function with keyword params\n",
    "def print_address(name, number = '100', building = 'Tower A', district = 'Nanshan', city = 'Shenzhen', country = 'China'):\n",
    "    print(name, \"live in\", number, building, district, city, country)\n",
    "\n",
    "print_address(\"I\")\n",
    "print_address(\"I\", district='Futian')\n",
    "print_address(\"I\", district='Futian', country='China mainland')"
   ],
   "metadata": {
    "collapsed": false,
    "pycharm": {
     "name": "#%%\n"
    }
   }
  },
  {
   "cell_type": "code",
   "execution_count": 24,
   "outputs": [
    {
     "name": "stdout",
     "output_type": "stream",
     "text": [
      "Foo\n",
      "(1, 2, 3)\n",
      "{'a': 1, 'b': 2}\n",
      "Foo\n",
      "(3, 4, 5)\n",
      "{'a': 3, 'b': 4}\n"
     ]
    }
   ],
   "source": [
    "# variadic function\n",
    "def variadic_func(name, *tags, **kv):\n",
    "    print(name)\n",
    "    print(tags)\n",
    "    print(kv)\n",
    "\n",
    "variadic_func(\"Foo\", 1, 2, 3, a=1, b=2)\n",
    "variadic_func(\"Foo\", *(3, 4, 5), **{\"a\":3, \"b\":4})"
   ],
   "metadata": {
    "collapsed": false,
    "pycharm": {
     "name": "#%%\n"
    }
   }
  }
 ],
 "metadata": {
  "kernelspec": {
   "display_name": "Python 3",
   "language": "python",
   "name": "python3"
  },
  "language_info": {
   "codemirror_mode": {
    "name": "ipython",
    "version": 2
   },
   "file_extension": ".py",
   "mimetype": "text/x-python",
   "name": "python",
   "nbconvert_exporter": "python",
   "pygments_lexer": "ipython2",
   "version": "2.7.6"
  }
 },
 "nbformat": 4,
 "nbformat_minor": 0
}